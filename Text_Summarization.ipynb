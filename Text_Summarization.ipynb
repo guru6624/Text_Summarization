{
  "nbformat": 4,
  "nbformat_minor": 0,
  "metadata": {
    "colab": {
      "provenance": [],
      "toc_visible": true,
      "include_colab_link": true
    },
    "kernelspec": {
      "name": "python3",
      "display_name": "Python 3"
    },
    "language_info": {
      "name": "python"
    }
  },
  "cells": [
    {
      "cell_type": "markdown",
      "metadata": {
        "id": "view-in-github",
        "colab_type": "text"
      },
      "source": [
        "<a href=\"https://colab.research.google.com/github/guru6624/Text_Summarization/blob/main/Text_Summarization.ipynb\" target=\"_parent\"><img src=\"https://colab.research.google.com/assets/colab-badge.svg\" alt=\"Open In Colab\"/></a>"
      ]
    },
    {
      "cell_type": "markdown",
      "source": [
        "TEXT"
      ],
      "metadata": {
        "id": "8o7ZF54cBcrf"
      }
    },
    {
      "cell_type": "code",
      "execution_count": null,
      "metadata": {
        "id": "kiucS2d_6GNc"
      },
      "outputs": [],
      "source": [
        "text=\"\"\" The Mars Orbiter Mission (MOM), commonly referred to as Mangalyaan-1, is a space probe launched by the Indian Space Research Organization (ISRO) on November 5, 2013.\n",
        "The indigenously-built space probe, which is India's first interplanetary mission, has been in the Martian orbit since September 24, 2014.\n",
        "The mission which is aimed at studying Martian atmosphere helped the ISRO to enter the elite group of space agencies including the Soviet Space Program,\n",
        " NASA and the European Space Agency to reach Mars. India is the first Asian nation to reach the Mars orbit and the first in the world to achieve it on its first attempt.\n",
        "Description: MOM was launched aboard PSLV C-25 (an XL version of the PSLV), one of the world's best and reliable launch vehicles. \n",
        "The spacecraft is based on the modified I-1-K satellite bus of ISRO which proved its reliability over the years in similar missions like Chandrayaan-1,\n",
        "the IRS and INSAT series of satellites. It carried 850 kg of fuel and 5 science payloads including a Mars Color Camera (MCC) which it has been using to study the Martian surface and atmosphere since entering the orbit successfully.\n",
        "The spacecraft is tracked by the Indian Deep Space Network (IDSN), located near Bengaluru and complemented by NASA-JPL's Deep Space Network. \n",
        "MOM showcased India's spacecraft building, rocket launch systems and operation capabilities. The mission's primary objective is to develop technologies required in planning, designing,\n",
        "management and operations of an interplanetary mission.\n",
        "The secondary objective is to explore Martian surface features, mineralogy, morphology and atmosphere using indigenous scientific instruments. I\n",
        "nitially planned for a lifetime of 6 months, ISRO extended the mission to another 2-3 years in April 2015 because of the adequate quantity of fuel still left in the spacecraft. Till December 2015, \n",
        "the MOM had completed over 8000 orbits of Mars.,\n",
        " \"\"\""
      ]
    },
    {
      "cell_type": "markdown",
      "source": [
        "importing spacy libraries \n"
      ],
      "metadata": {
        "id": "2aTaA-iEBjqj"
      }
    },
    {
      "cell_type": "code",
      "source": [
        "import spacy\n",
        "from spacy.lang.en.stop_words import STOP_WORDS\n",
        "from string import punctuation"
      ],
      "metadata": {
        "id": "SqXQN4w76-Am"
      },
      "execution_count": null,
      "outputs": []
    },
    {
      "cell_type": "markdown",
      "source": [
        "Inserting stopwords in list\n"
      ],
      "metadata": {
        "id": "HDhxLwLBCplT"
      }
    },
    {
      "cell_type": "code",
      "source": [
        "stopwords = list(STOP_WORDS)"
      ],
      "metadata": {
        "id": "05Q87tnx7zKX"
      },
      "execution_count": null,
      "outputs": []
    },
    {
      "cell_type": "code",
      "source": [
        "nlp = spacy.load('en_core_web_sm')"
      ],
      "metadata": {
        "id": "N6UMEPhu8alK"
      },
      "execution_count": null,
      "outputs": []
    },
    {
      "cell_type": "markdown",
      "source": [
        "Passing Text in NLP doc"
      ],
      "metadata": {
        "id": "SvSdqbj5DnRn"
      }
    },
    {
      "cell_type": "code",
      "source": [
        "doc = nlp(text)"
      ],
      "metadata": {
        "id": "rWYXHqFg84QX"
      },
      "execution_count": null,
      "outputs": []
    },
    {
      "cell_type": "markdown",
      "source": [
        "Getting Tokens from doc"
      ],
      "metadata": {
        "id": "1Ro4mdr_EDTl"
      }
    },
    {
      "cell_type": "code",
      "source": [
        "tokens = [token.text for token in doc]\n",
        "print(tokens)"
      ],
      "metadata": {
        "colab": {
          "base_uri": "https://localhost:8080/"
        },
        "id": "O7S17Lhv8_aU",
        "outputId": "f77bb0b0-425e-4b92-d5f6-91a599f24c79"
      },
      "execution_count": null,
      "outputs": [
        {
          "output_type": "stream",
          "name": "stdout",
          "text": [
            "[' ', 'The', 'Mars', 'Orbiter', 'Mission', '(', 'MOM', ')', ',', 'commonly', 'referred', 'to', 'as', 'Mangalyaan-1', ',', 'is', 'a', 'space', 'probe', 'launched', 'by', 'the', 'Indian', 'Space', 'Research', 'Organization', '(', 'ISRO', ')', 'on', 'November', '5', ',', '2013', '.', '\\n', 'The', 'indigenously', '-', 'built', 'space', 'probe', ',', 'which', 'is', 'India', \"'s\", 'first', 'interplanetary', 'mission', ',', 'has', 'been', 'in', 'the', 'Martian', 'orbit', 'since', 'September', '24', ',', '2014', '.', '\\n', 'The', 'mission', 'which', 'is', 'aimed', 'at', 'studying', 'Martian', 'atmosphere', 'helped', 'the', 'ISRO', 'to', 'enter', 'the', 'elite', 'group', 'of', 'space', 'agencies', 'including', 'the', 'Soviet', 'Space', 'Program', ',', '\\n ', 'NASA', 'and', 'the', 'European', 'Space', 'Agency', 'to', 'reach', 'Mars', '.', 'India', 'is', 'the', 'first', 'Asian', 'nation', 'to', 'reach', 'the', 'Mars', 'orbit', 'and', 'the', 'first', 'in', 'the', 'world', 'to', 'achieve', 'it', 'on', 'its', 'first', 'attempt', '.', '\\n', 'Description', ':', 'MOM', 'was', 'launched', 'aboard', 'PSLV', 'C-25', '(', 'an', 'XL', 'version', 'of', 'the', 'PSLV', ')', ',', 'one', 'of', 'the', 'world', \"'s\", 'best', 'and', 'reliable', 'launch', 'vehicles', '.', '\\n', 'The', 'spacecraft', 'is', 'based', 'on', 'the', 'modified', 'I-1', '-', 'K', 'satellite', 'bus', 'of', 'ISRO', 'which', 'proved', 'its', 'reliability', 'over', 'the', 'years', 'in', 'similar', 'missions', 'like', 'Chandrayaan-1', ',', '\\n', 'the', 'IRS', 'and', 'INSAT', 'series', 'of', 'satellites', '.', 'It', 'carried', '850', 'kg', 'of', 'fuel', 'and', '5', 'science', 'payloads', 'including', 'a', 'Mars', 'Color', 'Camera', '(', 'MCC', ')', 'which', 'it', 'has', 'been', 'using', 'to', 'study', 'the', 'Martian', 'surface', 'and', 'atmosphere', 'since', 'entering', 'the', 'orbit', 'successfully', '.', '\\n', 'The', 'spacecraft', 'is', 'tracked', 'by', 'the', 'Indian', 'Deep', 'Space', 'Network', '(', 'IDSN', ')', ',', 'located', 'near', 'Bengaluru', 'and', 'complemented', 'by', 'NASA', '-', 'JPL', \"'s\", 'Deep', 'Space', 'Network', '.', '\\n', 'MOM', 'showcased', 'India', \"'s\", 'spacecraft', 'building', ',', 'rocket', 'launch', 'systems', 'and', 'operation', 'capabilities', '.', 'The', 'mission', \"'s\", 'primary', 'objective', 'is', 'to', 'develop', 'technologies', 'required', 'in', 'planning', ',', 'designing', ',', '\\n', 'management', 'and', 'operations', 'of', 'an', 'interplanetary', 'mission', '.', '\\n', 'The', 'secondary', 'objective', 'is', 'to', 'explore', 'Martian', 'surface', 'features', ',', 'mineralogy', ',', 'morphology', 'and', 'atmosphere', 'using', 'indigenous', 'scientific', 'instruments', '.', 'I', '\\n', 'nitially', 'planned', 'for', 'a', 'lifetime', 'of', '6', 'months', ',', 'ISRO', 'extended', 'the', 'mission', 'to', 'another', '2', '-', '3', 'years', 'in', 'April', '2015', 'because', 'of', 'the', 'adequate', 'quantity', 'of', 'fuel', 'still', 'left', 'in', 'the', 'spacecraft', '.', 'Till', 'December', '2015', ',', '\\n', 'the', 'MOM', 'had', 'completed', 'over', '8000', 'orbits', 'of', 'Mars', '.', ',', '\\n ']\n"
          ]
        }
      ]
    },
    {
      "cell_type": "markdown",
      "source": [
        "Removing the Stopwords from doc using punctuations"
      ],
      "metadata": {
        "id": "o7HzLBk4EKx5"
      }
    },
    {
      "cell_type": "code",
      "source": [
        "punctuation = punctuation + '\\n'\n",
        "punctuation"
      ],
      "metadata": {
        "colab": {
          "base_uri": "https://localhost:8080/",
          "height": 36
        },
        "id": "jkeBdWLw-CtV",
        "outputId": "13612adc-6af1-4ca0-b6e5-8ac635892595"
      },
      "execution_count": null,
      "outputs": [
        {
          "output_type": "execute_result",
          "data": {
            "text/plain": [
              "'!\"#$%&\\'()*+,-./:;<=>?@[\\\\]^_`{|}~\\n'"
            ],
            "application/vnd.google.colaboratory.intrinsic+json": {
              "type": "string"
            }
          },
          "metadata": {},
          "execution_count": 34
        }
      ]
    },
    {
      "cell_type": "markdown",
      "source": [
        "Identifying word frequency to know how many times the word is repeated "
      ],
      "metadata": {
        "id": "4-6P7iXnE_E8"
      }
    },
    {
      "cell_type": "code",
      "source": [
        "word_frequencies = {}\n",
        "for word in doc:\n",
        "    if word.text.lower() not in stopwords:\n",
        "        if word.text.lower() not in punctuation:\n",
        "            if word.text not in word_frequencies.keys():\n",
        "                word_frequencies[word.text] = 1\n",
        "            else:\n",
        "                word_frequencies[word.text] += 1"
      ],
      "metadata": {
        "id": "3pFPpjBf-V4P"
      },
      "execution_count": null,
      "outputs": []
    },
    {
      "cell_type": "code",
      "source": [
        "print(word_frequencies)"
      ],
      "metadata": {
        "colab": {
          "base_uri": "https://localhost:8080/"
        },
        "id": "u1PlXtiwAETD",
        "outputId": "24ec3349-3224-4e7b-acd5-fc783aef2180"
      },
      "execution_count": null,
      "outputs": [
        {
          "output_type": "stream",
          "name": "stdout",
          "text": [
            "{' ': 1, 'Mars': 5, 'Orbiter': 1, 'Mission': 1, 'MOM': 4, 'commonly': 1, 'referred': 1, 'Mangalyaan-1': 1, 'space': 3, 'probe': 2, 'launched': 2, 'Indian': 2, 'Space': 5, 'Research': 1, 'Organization': 1, 'ISRO': 4, 'November': 1, '5': 2, '2013': 1, 'indigenously': 1, 'built': 1, 'India': 3, 'interplanetary': 2, 'mission': 5, 'Martian': 4, 'orbit': 3, 'September': 1, '24': 1, '2014': 1, 'aimed': 1, 'studying': 1, 'atmosphere': 3, 'helped': 1, 'enter': 1, 'elite': 1, 'group': 1, 'agencies': 1, 'including': 2, 'Soviet': 1, 'Program': 1, '\\n ': 2, 'NASA': 2, 'European': 1, 'Agency': 1, 'reach': 2, 'Asian': 1, 'nation': 1, 'world': 2, 'achieve': 1, 'attempt': 1, 'Description': 1, 'aboard': 1, 'PSLV': 2, 'C-25': 1, 'XL': 1, 'version': 1, 'best': 1, 'reliable': 1, 'launch': 2, 'vehicles': 1, 'spacecraft': 4, 'based': 1, 'modified': 1, 'I-1': 1, 'K': 1, 'satellite': 1, 'bus': 1, 'proved': 1, 'reliability': 1, 'years': 2, 'similar': 1, 'missions': 1, 'like': 1, 'Chandrayaan-1': 1, 'IRS': 1, 'INSAT': 1, 'series': 1, 'satellites': 1, 'carried': 1, '850': 1, 'kg': 1, 'fuel': 2, 'science': 1, 'payloads': 1, 'Color': 1, 'Camera': 1, 'MCC': 1, 'study': 1, 'surface': 2, 'entering': 1, 'successfully': 1, 'tracked': 1, 'Deep': 2, 'Network': 2, 'IDSN': 1, 'located': 1, 'near': 1, 'Bengaluru': 1, 'complemented': 1, 'JPL': 1, 'showcased': 1, 'building': 1, 'rocket': 1, 'systems': 1, 'operation': 1, 'capabilities': 1, 'primary': 1, 'objective': 2, 'develop': 1, 'technologies': 1, 'required': 1, 'planning': 1, 'designing': 1, 'management': 1, 'operations': 1, 'secondary': 1, 'explore': 1, 'features': 1, 'mineralogy': 1, 'morphology': 1, 'indigenous': 1, 'scientific': 1, 'instruments': 1, 'nitially': 1, 'planned': 1, 'lifetime': 1, '6': 1, 'months': 1, 'extended': 1, '2': 1, '3': 1, 'April': 1, '2015': 2, 'adequate': 1, 'quantity': 1, 'left': 1, 'Till': 1, 'December': 1, 'completed': 1, '8000': 1, 'orbits': 1}\n"
          ]
        }
      ]
    },
    {
      "cell_type": "code",
      "source": [
        "max_frequency = max(word_frequencies.values())\n"
      ],
      "metadata": {
        "id": "n07RlVjhAn8V"
      },
      "execution_count": null,
      "outputs": []
    },
    {
      "cell_type": "markdown",
      "source": [
        "Printing Max Frequency of a Word "
      ],
      "metadata": {
        "id": "XJdOwJHQFqgO"
      }
    },
    {
      "cell_type": "code",
      "source": [
        "max_frequency"
      ],
      "metadata": {
        "colab": {
          "base_uri": "https://localhost:8080/"
        },
        "id": "Qs5vginVCAGV",
        "outputId": "9d01db3a-84f8-4970-8adc-7a2c31f10a3f"
      },
      "execution_count": null,
      "outputs": [
        {
          "output_type": "execute_result",
          "data": {
            "text/plain": [
              "5"
            ]
          },
          "metadata": {},
          "execution_count": 38
        }
      ]
    },
    {
      "cell_type": "markdown",
      "source": [
        "Using Normalization Method"
      ],
      "metadata": {
        "id": "Xlk1U9NCGXSx"
      }
    },
    {
      "cell_type": "code",
      "source": [
        "for word in word_frequencies.keys():\n",
        "    word_frequencies[word] = word_frequencies[word]/max_frequency"
      ],
      "metadata": {
        "id": "30wLnrrRCbqe"
      },
      "execution_count": null,
      "outputs": []
    },
    {
      "cell_type": "code",
      "source": [
        "print(word_frequencies)"
      ],
      "metadata": {
        "colab": {
          "base_uri": "https://localhost:8080/"
        },
        "id": "5lJKWqv0CzLq",
        "outputId": "4cda4edf-c861-4638-fac5-9f0722d0156b"
      },
      "execution_count": null,
      "outputs": [
        {
          "output_type": "stream",
          "name": "stdout",
          "text": [
            "{' ': 0.2, 'Mars': 1.0, 'Orbiter': 0.2, 'Mission': 0.2, 'MOM': 0.8, 'commonly': 0.2, 'referred': 0.2, 'Mangalyaan-1': 0.2, 'space': 0.6, 'probe': 0.4, 'launched': 0.4, 'Indian': 0.4, 'Space': 1.0, 'Research': 0.2, 'Organization': 0.2, 'ISRO': 0.8, 'November': 0.2, '5': 0.4, '2013': 0.2, 'indigenously': 0.2, 'built': 0.2, 'India': 0.6, 'interplanetary': 0.4, 'mission': 1.0, 'Martian': 0.8, 'orbit': 0.6, 'September': 0.2, '24': 0.2, '2014': 0.2, 'aimed': 0.2, 'studying': 0.2, 'atmosphere': 0.6, 'helped': 0.2, 'enter': 0.2, 'elite': 0.2, 'group': 0.2, 'agencies': 0.2, 'including': 0.4, 'Soviet': 0.2, 'Program': 0.2, '\\n ': 0.4, 'NASA': 0.4, 'European': 0.2, 'Agency': 0.2, 'reach': 0.4, 'Asian': 0.2, 'nation': 0.2, 'world': 0.4, 'achieve': 0.2, 'attempt': 0.2, 'Description': 0.2, 'aboard': 0.2, 'PSLV': 0.4, 'C-25': 0.2, 'XL': 0.2, 'version': 0.2, 'best': 0.2, 'reliable': 0.2, 'launch': 0.4, 'vehicles': 0.2, 'spacecraft': 0.8, 'based': 0.2, 'modified': 0.2, 'I-1': 0.2, 'K': 0.2, 'satellite': 0.2, 'bus': 0.2, 'proved': 0.2, 'reliability': 0.2, 'years': 0.4, 'similar': 0.2, 'missions': 0.2, 'like': 0.2, 'Chandrayaan-1': 0.2, 'IRS': 0.2, 'INSAT': 0.2, 'series': 0.2, 'satellites': 0.2, 'carried': 0.2, '850': 0.2, 'kg': 0.2, 'fuel': 0.4, 'science': 0.2, 'payloads': 0.2, 'Color': 0.2, 'Camera': 0.2, 'MCC': 0.2, 'study': 0.2, 'surface': 0.4, 'entering': 0.2, 'successfully': 0.2, 'tracked': 0.2, 'Deep': 0.4, 'Network': 0.4, 'IDSN': 0.2, 'located': 0.2, 'near': 0.2, 'Bengaluru': 0.2, 'complemented': 0.2, 'JPL': 0.2, 'showcased': 0.2, 'building': 0.2, 'rocket': 0.2, 'systems': 0.2, 'operation': 0.2, 'capabilities': 0.2, 'primary': 0.2, 'objective': 0.4, 'develop': 0.2, 'technologies': 0.2, 'required': 0.2, 'planning': 0.2, 'designing': 0.2, 'management': 0.2, 'operations': 0.2, 'secondary': 0.2, 'explore': 0.2, 'features': 0.2, 'mineralogy': 0.2, 'morphology': 0.2, 'indigenous': 0.2, 'scientific': 0.2, 'instruments': 0.2, 'nitially': 0.2, 'planned': 0.2, 'lifetime': 0.2, '6': 0.2, 'months': 0.2, 'extended': 0.2, '2': 0.2, '3': 0.2, 'April': 0.2, '2015': 0.4, 'adequate': 0.2, 'quantity': 0.2, 'left': 0.2, 'Till': 0.2, 'December': 0.2, 'completed': 0.2, '8000': 0.2, 'orbits': 0.2}\n"
          ]
        }
      ]
    },
    {
      "cell_type": "markdown",
      "source": [
        "Sentence Tokenisation "
      ],
      "metadata": {
        "id": "6gWDo_ACG1Ed"
      }
    },
    {
      "cell_type": "code",
      "source": [
        "sentence_tokens = [sent for sent in doc.sents]\n",
        "print(sentence_tokens)"
      ],
      "metadata": {
        "colab": {
          "base_uri": "https://localhost:8080/"
        },
        "id": "MZQCn2qVC8ku",
        "outputId": "96a997af-4de0-494f-e980-930ce74d1605"
      },
      "execution_count": null,
      "outputs": [
        {
          "output_type": "stream",
          "name": "stdout",
          "text": [
            "[ The Mars Orbiter Mission (MOM), commonly referred to as Mangalyaan-1, is a space probe launched by the Indian Space Research Organization (ISRO) on November 5, 2013.\n",
            ", The indigenously-built space probe, which is India's first interplanetary mission, has been in the Martian orbit since September 24, 2014.\n",
            ", The mission which is aimed at studying Martian atmosphere helped the ISRO to enter the elite group of space agencies including the Soviet Space Program,\n",
            " NASA and the European Space Agency to reach Mars., India is the first Asian nation to reach the Mars orbit and the first in the world to achieve it on its first attempt.\n",
            ", Description: MOM was launched aboard PSLV C-25 (an XL version of the PSLV), one of the world's best and reliable launch vehicles. \n",
            ", The spacecraft is based on the modified I-1-K satellite bus of ISRO which proved its reliability over the years in similar missions like Chandrayaan-1,\n",
            "the IRS and INSAT series of satellites., It carried 850 kg of fuel and 5 science payloads including a Mars Color Camera (MCC) which it has been using to study the Martian surface and atmosphere since entering the orbit successfully.\n",
            ", The spacecraft is tracked by the Indian Deep Space Network (IDSN), located near Bengaluru and complemented by NASA-JPL's Deep Space Network. \n",
            ", MOM showcased India's spacecraft building, rocket launch systems and operation capabilities., The mission's primary objective is to develop technologies required in planning, designing,\n",
            "management and operations of an interplanetary mission.\n",
            ", The secondary objective is to explore Martian surface features, mineralogy, morphology and atmosphere using indigenous scientific instruments., I\n",
            "nitially planned for a lifetime of 6 months, ISRO extended the mission to another 2-3 years in April 2015 because of the adequate quantity of fuel still left in the spacecraft., Till December 2015, \n",
            "the MOM had completed over 8000 orbits of Mars.,\n",
            " ]\n"
          ]
        }
      ]
    },
    {
      "cell_type": "markdown",
      "source": [
        "Finding Sentance Score"
      ],
      "metadata": {
        "id": "mkUoxE5RIAVB"
      }
    },
    {
      "cell_type": "code",
      "source": [
        "sentence_scores = {}\n",
        "for sent in sentence_tokens:\n",
        "    for word in sent:\n",
        "        if word.text.lower() in word_frequencies.keys():\n",
        "            if sent not in sentence_scores.keys():\n",
        "                sentence_scores[sent] = word_frequencies[word.text.lower()]\n",
        "            else:\n",
        "                sentence_scores[sent] += word_frequencies[word.text.lower()]"
      ],
      "metadata": {
        "id": "P747apBSEe8m"
      },
      "execution_count": null,
      "outputs": []
    },
    {
      "cell_type": "code",
      "source": [
        "sentence_scores"
      ],
      "metadata": {
        "colab": {
          "base_uri": "https://localhost:8080/"
        },
        "id": "1onizTAYFzCW",
        "outputId": "2153a595-6e7e-415b-f671-675a3ee1e4bd"
      },
      "execution_count": null,
      "outputs": [
        {
          "output_type": "execute_result",
          "data": {
            "text/plain": [
              "{ The Mars Orbiter Mission (MOM), commonly referred to as Mangalyaan-1, is a space probe launched by the Indian Space Research Organization (ISRO) on November 5, 2013.: 4.199999999999999,\n",
              " The indigenously-built space probe, which is India's first interplanetary mission, has been in the Martian orbit since September 24, 2014.: 3.8000000000000003,\n",
              " The mission which is aimed at studying Martian atmosphere helped the ISRO to enter the elite group of space agencies including the Soviet Space Program,\n",
              "  NASA and the European Space Agency to reach Mars.: 6.000000000000001,\n",
              " India is the first Asian nation to reach the Mars orbit and the first in the world to achieve it on its first attempt.: 2.0,\n",
              " Description: MOM was launched aboard PSLV C-25 (an XL version of the PSLV), one of the world's best and reliable launch vehicles. : 2.2,\n",
              " The spacecraft is based on the modified I-1-K satellite bus of ISRO which proved its reliability over the years in similar missions like Chandrayaan-1,\n",
              " the IRS and INSAT series of satellites.: 3.400000000000001,\n",
              " It carried 850 kg of fuel and 5 science payloads including a Mars Color Camera (MCC) which it has been using to study the Martian surface and atmosphere since entering the orbit successfully.: 4.4,\n",
              " The spacecraft is tracked by the Indian Deep Space Network (IDSN), located near Bengaluru and complemented by NASA-JPL's Deep Space Network. : 2.8000000000000003,\n",
              " MOM showcased India's spacecraft building, rocket launch systems and operation capabilities.: 2.4,\n",
              " The mission's primary objective is to develop technologies required in planning, designing,\n",
              " management and operations of an interplanetary mission.: 4.4,\n",
              " The secondary objective is to explore Martian surface features, mineralogy, morphology and atmosphere using indigenous scientific instruments.: 3.0000000000000004,\n",
              " I\n",
              " nitially planned for a lifetime of 6 months, ISRO extended the mission to another 2-3 years in April 2015 because of the adequate quantity of fuel still left in the spacecraft.: 5.200000000000001,\n",
              " Till December 2015, \n",
              " the MOM had completed over 8000 orbits of Mars.,\n",
              "  : 1.4}"
            ]
          },
          "metadata": {},
          "execution_count": 43
        }
      ]
    },
    {
      "cell_type": "code",
      "source": [
        "from heapq import nlargest\n"
      ],
      "metadata": {
        "id": "mJp_99QaGKD4"
      },
      "execution_count": null,
      "outputs": []
    },
    {
      "cell_type": "markdown",
      "source": [
        "Selecting Only 30%  From Sentence Tokens "
      ],
      "metadata": {
        "id": "S2-1qO1HIgfb"
      }
    },
    {
      "cell_type": "code",
      "source": [
        "select_length = int(len(sentence_tokens)*0.3)\n",
        "select_length"
      ],
      "metadata": {
        "colab": {
          "base_uri": "https://localhost:8080/"
        },
        "id": "u3ZIUne7GUgP",
        "outputId": "f07954a1-72f4-4902-eab7-f2d079405631"
      },
      "execution_count": null,
      "outputs": [
        {
          "output_type": "execute_result",
          "data": {
            "text/plain": [
              "3"
            ]
          },
          "metadata": {},
          "execution_count": 45
        }
      ]
    },
    {
      "cell_type": "markdown",
      "source": [
        "Getting Required Sentence Tokens"
      ],
      "metadata": {
        "id": "0oBubs6VJchu"
      }
    },
    {
      "cell_type": "code",
      "source": [
        "summary = nlargest(select_length, sentence_scores, key = sentence_scores.get )"
      ],
      "metadata": {
        "id": "6J4ryGjWG6BX"
      },
      "execution_count": null,
      "outputs": []
    },
    {
      "cell_type": "code",
      "source": [
        "summary"
      ],
      "metadata": {
        "colab": {
          "base_uri": "https://localhost:8080/"
        },
        "id": "z91HEcjVHr3S",
        "outputId": "fc511e2e-1ba7-4cc7-815d-8d8b5af34513"
      },
      "execution_count": null,
      "outputs": [
        {
          "output_type": "execute_result",
          "data": {
            "text/plain": [
              "[The mission which is aimed at studying Martian atmosphere helped the ISRO to enter the elite group of space agencies including the Soviet Space Program,\n",
              "  NASA and the European Space Agency to reach Mars., I\n",
              " nitially planned for a lifetime of 6 months, ISRO extended the mission to another 2-3 years in April 2015 because of the adequate quantity of fuel still left in the spacecraft., It carried 850 kg of fuel and 5 science payloads including a Mars Color Camera (MCC) which it has been using to study the Martian surface and atmosphere since entering the orbit successfully.]"
            ]
          },
          "metadata": {},
          "execution_count": 47
        }
      ]
    },
    {
      "cell_type": "code",
      "source": [
        "final_summary = [word.text for word in summary]"
      ],
      "metadata": {
        "id": "S9A-mHQsIJUl"
      },
      "execution_count": null,
      "outputs": []
    },
    {
      "cell_type": "markdown",
      "source": [
        "Final Summary in List"
      ],
      "metadata": {
        "id": "XLcULBtJDU8p"
      }
    },
    {
      "cell_type": "code",
      "source": [
        "final_summary"
      ],
      "metadata": {
        "colab": {
          "base_uri": "https://localhost:8080/"
        },
        "id": "fqYaiJSHIZvy",
        "outputId": "cd4be25d-5c31-49c8-c83e-4bcb807b316d"
      },
      "execution_count": null,
      "outputs": [
        {
          "output_type": "execute_result",
          "data": {
            "text/plain": [
              "['The mission which is aimed at studying Martian atmosphere helped the ISRO to enter the elite group of space agencies including the Soviet Space Program,\\n NASA and the European Space Agency to reach Mars.',\n",
              " 'I\\nnitially planned for a lifetime of 6 months, ISRO extended the mission to another 2-3 years in April 2015 because of the adequate quantity of fuel still left in the spacecraft.',\n",
              " 'It carried 850 kg of fuel and 5 science payloads including a Mars Color Camera (MCC) which it has been using to study the Martian surface and atmosphere since entering the orbit successfully.\\n']"
            ]
          },
          "metadata": {},
          "execution_count": 49
        }
      ]
    },
    {
      "cell_type": "markdown",
      "source": [
        "Final Summary"
      ],
      "metadata": {
        "id": "0sshsWG2DDae"
      }
    },
    {
      "cell_type": "code",
      "source": [
        "summary =' '.join(final_summary)\n",
        "print(summary)"
      ],
      "metadata": {
        "colab": {
          "base_uri": "https://localhost:8080/"
        },
        "id": "tmQbuuXNImrb",
        "outputId": "454ca43f-33cf-4b85-b0d1-111e1e64d94d"
      },
      "execution_count": null,
      "outputs": [
        {
          "output_type": "stream",
          "name": "stdout",
          "text": [
            "The mission which is aimed at studying Martian atmosphere helped the ISRO to enter the elite group of space agencies including the Soviet Space Program,\n",
            " NASA and the European Space Agency to reach Mars. I\n",
            "nitially planned for a lifetime of 6 months, ISRO extended the mission to another 2-3 years in April 2015 because of the adequate quantity of fuel still left in the spacecraft. It carried 850 kg of fuel and 5 science payloads including a Mars Color Camera (MCC) which it has been using to study the Martian surface and atmosphere since entering the orbit successfully.\n",
            "\n"
          ]
        }
      ]
    },
    {
      "cell_type": "code",
      "source": [
        "len(text)"
      ],
      "metadata": {
        "colab": {
          "base_uri": "https://localhost:8080/"
        },
        "id": "is3v6AnTA1rl",
        "outputId": "68374cb8-d28c-4417-8a1a-e66da5bc6a29"
      },
      "execution_count": null,
      "outputs": [
        {
          "output_type": "execute_result",
          "data": {
            "text/plain": [
              "1920"
            ]
          },
          "metadata": {},
          "execution_count": 52
        }
      ]
    },
    {
      "cell_type": "code",
      "source": [
        "len(summary)"
      ],
      "metadata": {
        "colab": {
          "base_uri": "https://localhost:8080/"
        },
        "id": "ANEF-rTHKHqV",
        "outputId": "2cff89ab-d918-44e5-dc75-4f0b3a2d6366"
      },
      "execution_count": null,
      "outputs": [
        {
          "output_type": "execute_result",
          "data": {
            "text/plain": [
              "575"
            ]
          },
          "metadata": {},
          "execution_count": 53
        }
      ]
    }
  ]
}